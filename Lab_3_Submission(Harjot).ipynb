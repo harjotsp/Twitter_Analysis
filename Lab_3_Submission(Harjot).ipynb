{
  "cells": [
    {
      "cell_type": "markdown",
      "id": "5b37142c",
      "metadata": {
        "id": "5b37142c"
      },
      "source": [
        "\n",
        "\n",
        "\n",
        "\n",
        "\n",
        "\n",
        "\n",
        "\n",
        "\n",
        "\n",
        "\n",
        "\n",
        "\n",
        "\n",
        "\n",
        "\n",
        "\n",
        "\n",
        "\n",
        "\n",
        "\n",
        "\n",
        "\n",
        "\n",
        "\n",
        "\n",
        "\n",
        "\n",
        "\n",
        "\n",
        "\n",
        "\n",
        "\n",
        "\n",
        "\n",
        "\n",
        "\n",
        "\n",
        "\n",
        "\n",
        "\n",
        "\n",
        "\n",
        "\n",
        "\n",
        "\n",
        "\n",
        "\n",
        "\n",
        "### Class 3 - Harjot Parhar(C0819473)"
      ]
    },
    {
      "cell_type": "code",
      "execution_count": null,
      "id": "8dfce32a-c8b0-40e3-8e32-675f275b5c1f",
      "metadata": {
        "id": "8dfce32a-c8b0-40e3-8e32-675f275b5c1f"
      },
      "outputs": [],
      "source": [
        "import requests\n",
        "import sys\n",
        "import os\n",
        "import json\n",
        "import datetime\n",
        "import string\n",
        "import re\n",
        "import math\n",
        "import pandas as pd\n",
        "import snscrape.modules.twitter as sntwitter\n",
        "import itertools\n",
        "import numpy as np\n",
        "import nltk\n",
        "from nltk.tokenize import word_tokenize\n",
        "from nltk.corpus import stopwords\n",
        "from nltk.stem.porter import PorterStemmer\n",
        "from nltk.stem import WordNetLemmatizer\n",
        "from sklearn.feature_extraction.text import CountVectorizer\n",
        "from matplotlib import pyplot as plt\n",
        "import seaborn as sns\n",
        "import matplotlib.colors as mcolors\n",
        "\n",
        "from vaderSentiment.vaderSentiment import SentimentIntensityAnalyzer"
      ]
    },
    {
      "cell_type": "markdown",
      "id": "3a2595cc",
      "metadata": {
        "id": "3a2595cc"
      },
      "source": [
        "# Twitter extraction"
      ]
    },
    {
      "cell_type": "code",
      "execution_count": null,
      "id": "c8bdba47-8d11-45e0-ac10-a0ec4257bc26",
      "metadata": {
        "id": "c8bdba47-8d11-45e0-ac10-a0ec4257bc26"
      },
      "outputs": [],
      "source": [
        "class Scrapper:\n",
        "    def __init__(self, keyword, dates = [], fixed_query = '', tweets_to_obtain_per_day = 800):\n",
        "        self.keyword = keyword\n",
        "        self.dates = dates\n",
        "        self.fixed_query = fixed_query\n",
        "        self.batches = int(tweets_to_obtain_per_day / 100)\n",
        "        # Creates the dataframe for the keyword\n",
        "        self.dataframe = pd.DataFrame()\n",
        "    \n",
        "    def file_name(self):\n",
        "        clean_keyword = self.keyword.replace('@', '').replace('#', '')\n",
        "        return f'data/tweets_{clean_keyword}.csv'\n",
        "\n",
        "    def check_file_existence(self):\n",
        "        return os.path.exists(self.file_name())\n",
        "           \n",
        "    def scrap_tweets(self, from_date):\n",
        "        to_date = from_date + datetime.timedelta(days = 1)\n",
        "        query = f'{self.fixed_query} {self.keyword} since:{from_date.strftime(\"%Y-%m-%d\")} until:{to_date.strftime(\"%Y-%m-%d\")}'\n",
        "        result = sntwitter.TwitterSearchScraper(query) \n",
        "        df = pd.DataFrame(itertools.islice(result.get_items(), 50))\n",
        "        if len(df) > 0:\n",
        "            df['keyword'] = self.keyword\n",
        "            self.dataframe = self.dataframe.append(df[['id', 'url', 'date', 'content', 'keyword']], ignore_index=True)\n",
        "        \n",
        "    def get_tweets(self):\n",
        "        for from_date in self.dates:\n",
        "            self.scrap_tweets(from_date)           \n",
        "       \n",
        "    def save(self):\n",
        "        print(f'Saving {self.file_name()}')\n",
        "        self.dataframe.to_csv(self.file_name())\n",
        "        \n",
        "    def load(self):\n",
        "        print(f'Loading {self.file_name()}')\n",
        "        self.dataframe = pd.read_csv(self.file_name())"
      ]
    },
    {
      "cell_type": "code",
      "execution_count": null,
      "id": "a7b20010-24ea-4a1e-a834-b22b93126eb7",
      "metadata": {
        "id": "a7b20010-24ea-4a1e-a834-b22b93126eb7"
      },
      "outputs": [],
      "source": [
        "# Here we use a day as reference to get the tweets.\n",
        "pivot_date = datetime.datetime(2022, 5, 23)\n",
        "# Here we generate a list of the days we want to extract. We are choosing the last 90 days before the pivot date.\n",
        "dates = [ pivot_date + datetime.timedelta(days = i) for i in range(-15, 0) ]\n",
        "# We define a fixed query variable to make the extraction\n",
        "fixed_query = ''\n",
        "# Builds a list of relevant keywords for searching regarding the current government\n",
        "keywords = [\n",
        "    'monkeypox'\n",
        "    ]"
      ]
    },
    {
      "cell_type": "code",
      "execution_count": null,
      "id": "fa98f5c7-71a0-43df-9d4d-53681818bb27",
      "metadata": {
        "scrolled": false,
        "id": "fa98f5c7-71a0-43df-9d4d-53681818bb27",
        "outputId": "72f0f4f2-3e5c-42b5-df63-ddc3e22d426a"
      },
      "outputs": [
        {
          "name": "stderr",
          "output_type": "stream",
          "text": [
            "C:\\Users\\rhenr\\AppData\\Local\\Temp\\ipykernel_9376\\606035234.py:24: FutureWarning: The frame.append method is deprecated and will be removed from pandas in a future version. Use pandas.concat instead.\n",
            "  self.dataframe = self.dataframe.append(df[['id', 'url', 'date', 'content', 'keyword']], ignore_index=True)\n",
            "C:\\Users\\rhenr\\AppData\\Local\\Temp\\ipykernel_9376\\606035234.py:24: FutureWarning: The frame.append method is deprecated and will be removed from pandas in a future version. Use pandas.concat instead.\n",
            "  self.dataframe = self.dataframe.append(df[['id', 'url', 'date', 'content', 'keyword']], ignore_index=True)\n",
            "C:\\Users\\rhenr\\AppData\\Local\\Temp\\ipykernel_9376\\606035234.py:24: FutureWarning: The frame.append method is deprecated and will be removed from pandas in a future version. Use pandas.concat instead.\n",
            "  self.dataframe = self.dataframe.append(df[['id', 'url', 'date', 'content', 'keyword']], ignore_index=True)\n",
            "C:\\Users\\rhenr\\AppData\\Local\\Temp\\ipykernel_9376\\606035234.py:24: FutureWarning: The frame.append method is deprecated and will be removed from pandas in a future version. Use pandas.concat instead.\n",
            "  self.dataframe = self.dataframe.append(df[['id', 'url', 'date', 'content', 'keyword']], ignore_index=True)\n",
            "C:\\Users\\rhenr\\AppData\\Local\\Temp\\ipykernel_9376\\606035234.py:24: FutureWarning: The frame.append method is deprecated and will be removed from pandas in a future version. Use pandas.concat instead.\n",
            "  self.dataframe = self.dataframe.append(df[['id', 'url', 'date', 'content', 'keyword']], ignore_index=True)\n",
            "C:\\Users\\rhenr\\AppData\\Local\\Temp\\ipykernel_9376\\606035234.py:24: FutureWarning: The frame.append method is deprecated and will be removed from pandas in a future version. Use pandas.concat instead.\n",
            "  self.dataframe = self.dataframe.append(df[['id', 'url', 'date', 'content', 'keyword']], ignore_index=True)\n",
            "C:\\Users\\rhenr\\AppData\\Local\\Temp\\ipykernel_9376\\606035234.py:24: FutureWarning: The frame.append method is deprecated and will be removed from pandas in a future version. Use pandas.concat instead.\n",
            "  self.dataframe = self.dataframe.append(df[['id', 'url', 'date', 'content', 'keyword']], ignore_index=True)\n",
            "C:\\Users\\rhenr\\AppData\\Local\\Temp\\ipykernel_9376\\606035234.py:24: FutureWarning: The frame.append method is deprecated and will be removed from pandas in a future version. Use pandas.concat instead.\n",
            "  self.dataframe = self.dataframe.append(df[['id', 'url', 'date', 'content', 'keyword']], ignore_index=True)\n",
            "C:\\Users\\rhenr\\AppData\\Local\\Temp\\ipykernel_9376\\606035234.py:24: FutureWarning: The frame.append method is deprecated and will be removed from pandas in a future version. Use pandas.concat instead.\n",
            "  self.dataframe = self.dataframe.append(df[['id', 'url', 'date', 'content', 'keyword']], ignore_index=True)\n",
            "C:\\Users\\rhenr\\AppData\\Local\\Temp\\ipykernel_9376\\606035234.py:24: FutureWarning: The frame.append method is deprecated and will be removed from pandas in a future version. Use pandas.concat instead.\n",
            "  self.dataframe = self.dataframe.append(df[['id', 'url', 'date', 'content', 'keyword']], ignore_index=True)\n",
            "C:\\Users\\rhenr\\AppData\\Local\\Temp\\ipykernel_9376\\606035234.py:24: FutureWarning: The frame.append method is deprecated and will be removed from pandas in a future version. Use pandas.concat instead.\n",
            "  self.dataframe = self.dataframe.append(df[['id', 'url', 'date', 'content', 'keyword']], ignore_index=True)\n",
            "C:\\Users\\rhenr\\AppData\\Local\\Temp\\ipykernel_9376\\606035234.py:24: FutureWarning: The frame.append method is deprecated and will be removed from pandas in a future version. Use pandas.concat instead.\n",
            "  self.dataframe = self.dataframe.append(df[['id', 'url', 'date', 'content', 'keyword']], ignore_index=True)\n",
            "C:\\Users\\rhenr\\AppData\\Local\\Temp\\ipykernel_9376\\606035234.py:24: FutureWarning: The frame.append method is deprecated and will be removed from pandas in a future version. Use pandas.concat instead.\n",
            "  self.dataframe = self.dataframe.append(df[['id', 'url', 'date', 'content', 'keyword']], ignore_index=True)\n",
            "C:\\Users\\rhenr\\AppData\\Local\\Temp\\ipykernel_9376\\606035234.py:24: FutureWarning: The frame.append method is deprecated and will be removed from pandas in a future version. Use pandas.concat instead.\n",
            "  self.dataframe = self.dataframe.append(df[['id', 'url', 'date', 'content', 'keyword']], ignore_index=True)\n"
          ]
        },
        {
          "name": "stdout",
          "output_type": "stream",
          "text": [
            "Saving data/tweets_monkeypox.csv\n"
          ]
        },
        {
          "name": "stderr",
          "output_type": "stream",
          "text": [
            "C:\\Users\\rhenr\\AppData\\Local\\Temp\\ipykernel_9376\\606035234.py:24: FutureWarning: The frame.append method is deprecated and will be removed from pandas in a future version. Use pandas.concat instead.\n",
            "  self.dataframe = self.dataframe.append(df[['id', 'url', 'date', 'content', 'keyword']], ignore_index=True)\n"
          ]
        }
      ],
      "source": [
        "for keyword in keywords:\n",
        "    scrapper = Scrapper(keyword, dates, fixed_query, 1000)\n",
        "    if scrapper.check_file_existence():\n",
        "        # If the file already exists ommits the query to twitter API\n",
        "        print(f'File {scrapper.file_name()} already exists.. skipping data extraction')\n",
        "        continue\n",
        "    # Gets tweet for each date\n",
        "    scrapper.get_tweets()\n",
        "    # Saves the file\n",
        "    scrapper.save()   "
      ]
    },
    {
      "cell_type": "code",
      "execution_count": null,
      "id": "0da5cfe2-324d-4af2-aefb-2d2c5f441578",
      "metadata": {
        "id": "0da5cfe2-324d-4af2-aefb-2d2c5f441578",
        "outputId": "99108b01-1451-419e-c279-8566103bb65d"
      },
      "outputs": [
        {
          "name": "stdout",
          "output_type": "stream",
          "text": [
            "Loading data/tweets_monkeypox.csv\n"
          ]
        },
        {
          "name": "stderr",
          "output_type": "stream",
          "text": [
            "C:\\Users\\rhenr\\AppData\\Local\\Temp\\ipykernel_9376\\2452661904.py:8: FutureWarning: The frame.append method is deprecated and will be removed from pandas in a future version. Use pandas.concat instead.\n",
            "  complete_df = complete_df.append(scrapper.dataframe, ignore_index=True)\n"
          ]
        }
      ],
      "source": [
        "# Reads the tweets csv files and consolidates them in a single dataframe\n",
        "complete_df = pd.DataFrame() \n",
        "for keyword in keywords:\n",
        "    scrapper = Scrapper(keyword)\n",
        "    # Loads the data from its corresponding CSV file\n",
        "    scrapper.load()\n",
        "    # Merges the data in a single dataframe\n",
        "    complete_df = complete_df.append(scrapper.dataframe, ignore_index=True)\n",
        "\n",
        "# We save the result in a CSV file\n",
        "complete_df.to_csv('./data/complete_input_monkeypox.csv')"
      ]
    },
    {
      "cell_type": "markdown",
      "id": "f263a3b2",
      "metadata": {
        "id": "f263a3b2"
      },
      "source": [
        "## 1.2 Load dataset to pandas"
      ]
    },
    {
      "cell_type": "raw",
      "id": "c4702ca5",
      "metadata": {
        "id": "c4702ca5"
      },
      "source": [
        "In this section, we load the .csv generated in the scraper section.\n",
        "The dataframe contains the following columns:\n",
        "- Unnamed: 0: internal id of the scraping. It is not relevant\n",
        "- Unnamed: 0.1: internal id of the scraping. It is not relevant\n",
        "- id: is the tweet id\n",
        "- url: is the url of each tweet\n",
        "- date: is the datetime of the publication\n",
        "- username: is the twitter username that published the tweet\n",
        "- content: is the raw text of the tweet\n",
        "- keyword: is the hashtag/keyword used to search the tweet"
      ]
    },
    {
      "cell_type": "code",
      "execution_count": null,
      "id": "c334c26a",
      "metadata": {
        "id": "c334c26a"
      },
      "outputs": [],
      "source": [
        "import pandas as pd\n",
        "import numpy as np\n",
        "import matplotlib.pyplot as plt\n",
        "import seaborn as sns\n",
        "from sklearn.feature_extraction.text import CountVectorizer"
      ]
    },
    {
      "cell_type": "code",
      "execution_count": null,
      "id": "fb3af544-234f-47e9-8eae-73cceeff2b7f",
      "metadata": {
        "id": "fb3af544-234f-47e9-8eae-73cceeff2b7f",
        "outputId": "e1592db8-43d5-4baa-b8a0-d5a9f374d32a"
      },
      "outputs": [
        {
          "data": {
            "text/html": [
              "<div>\n",
              "<style scoped>\n",
              "    .dataframe tbody tr th:only-of-type {\n",
              "        vertical-align: middle;\n",
              "    }\n",
              "\n",
              "    .dataframe tbody tr th {\n",
              "        vertical-align: top;\n",
              "    }\n",
              "\n",
              "    .dataframe thead th {\n",
              "        text-align: right;\n",
              "    }\n",
              "</style>\n",
              "<table border=\"1\" class=\"dataframe\">\n",
              "  <thead>\n",
              "    <tr style=\"text-align: right;\">\n",
              "      <th></th>\n",
              "      <th>Unnamed: 0.1</th>\n",
              "      <th>Unnamed: 0</th>\n",
              "      <th>id</th>\n",
              "      <th>url</th>\n",
              "      <th>date</th>\n",
              "      <th>content</th>\n",
              "      <th>keyword</th>\n",
              "    </tr>\n",
              "  </thead>\n",
              "  <tbody>\n",
              "    <tr>\n",
              "      <th>745</th>\n",
              "      <td>745</td>\n",
              "      <td>745</td>\n",
              "      <td>1528525813624209409</td>\n",
              "      <td>https://twitter.com/LTSmash420/status/15285258...</td>\n",
              "      <td>2022-05-22 23:58:47+00:00</td>\n",
              "      <td>⚠️ Hollande - au moins 7 jeunes enfants sont m...</td>\n",
              "      <td>monkeypox</td>\n",
              "    </tr>\n",
              "    <tr>\n",
              "      <th>746</th>\n",
              "      <td>746</td>\n",
              "      <td>746</td>\n",
              "      <td>1528525803939581952</td>\n",
              "      <td>https://twitter.com/BethM0406/status/152852580...</td>\n",
              "      <td>2022-05-22 23:58:44+00:00</td>\n",
              "      <td>I'm going to be pissed if I get monkeypox. Cov...</td>\n",
              "      <td>monkeypox</td>\n",
              "    </tr>\n",
              "    <tr>\n",
              "      <th>747</th>\n",
              "      <td>747</td>\n",
              "      <td>747</td>\n",
              "      <td>1528525797199314949</td>\n",
              "      <td>https://twitter.com/og_tigress/status/15285257...</td>\n",
              "      <td>2022-05-22 23:58:43+00:00</td>\n",
              "      <td>@Shauna92118487 @StokPrescott @ChaseMacTrades ...</td>\n",
              "      <td>monkeypox</td>\n",
              "    </tr>\n",
              "    <tr>\n",
              "      <th>748</th>\n",
              "      <td>748</td>\n",
              "      <td>748</td>\n",
              "      <td>1528525793609011202</td>\n",
              "      <td>https://twitter.com/Applesdad12/status/1528525...</td>\n",
              "      <td>2022-05-22 23:58:42+00:00</td>\n",
              "      <td>@JulieD213 Guess we have to wait for the tally...</td>\n",
              "      <td>monkeypox</td>\n",
              "    </tr>\n",
              "    <tr>\n",
              "      <th>749</th>\n",
              "      <td>749</td>\n",
              "      <td>749</td>\n",
              "      <td>1528525789460893697</td>\n",
              "      <td>https://twitter.com/FollowChadwick/status/1528...</td>\n",
              "      <td>2022-05-22 23:58:41+00:00</td>\n",
              "      <td>Monkeypox is hilarious. Also sad. Hilarious th...</td>\n",
              "      <td>monkeypox</td>\n",
              "    </tr>\n",
              "  </tbody>\n",
              "</table>\n",
              "</div>"
            ],
            "text/plain": [
              "     Unnamed: 0.1  Unnamed: 0                   id  \\\n",
              "745           745         745  1528525813624209409   \n",
              "746           746         746  1528525803939581952   \n",
              "747           747         747  1528525797199314949   \n",
              "748           748         748  1528525793609011202   \n",
              "749           749         749  1528525789460893697   \n",
              "\n",
              "                                                   url  \\\n",
              "745  https://twitter.com/LTSmash420/status/15285258...   \n",
              "746  https://twitter.com/BethM0406/status/152852580...   \n",
              "747  https://twitter.com/og_tigress/status/15285257...   \n",
              "748  https://twitter.com/Applesdad12/status/1528525...   \n",
              "749  https://twitter.com/FollowChadwick/status/1528...   \n",
              "\n",
              "                          date  \\\n",
              "745  2022-05-22 23:58:47+00:00   \n",
              "746  2022-05-22 23:58:44+00:00   \n",
              "747  2022-05-22 23:58:43+00:00   \n",
              "748  2022-05-22 23:58:42+00:00   \n",
              "749  2022-05-22 23:58:41+00:00   \n",
              "\n",
              "                                               content    keyword  \n",
              "745  ⚠️ Hollande - au moins 7 jeunes enfants sont m...  monkeypox  \n",
              "746  I'm going to be pissed if I get monkeypox. Cov...  monkeypox  \n",
              "747  @Shauna92118487 @StokPrescott @ChaseMacTrades ...  monkeypox  \n",
              "748  @JulieD213 Guess we have to wait for the tally...  monkeypox  \n",
              "749  Monkeypox is hilarious. Also sad. Hilarious th...  monkeypox  "
            ]
          },
          "execution_count": 111,
          "metadata": {},
          "output_type": "execute_result"
        }
      ],
      "source": [
        "# here we load the csv file to a dataframe\n",
        "complete_df = pd.read_csv('./data/complete_input_monkeypox.csv')\n",
        "# Here is a sample of the dataset\n",
        "complete_df.tail()"
      ]
    },
    {
      "cell_type": "code",
      "execution_count": null,
      "id": "70a3a572-c86c-4154-9c49-a1ced429f3d8",
      "metadata": {
        "id": "70a3a572-c86c-4154-9c49-a1ced429f3d8",
        "outputId": "b2d76491-4008-47f9-ddca-aed4f3ecaa7f"
      },
      "outputs": [
        {
          "data": {
            "text/plain": [
              "(750, 7)"
            ]
          },
          "execution_count": 112,
          "metadata": {},
          "output_type": "execute_result"
        }
      ],
      "source": [
        "# The original size of the dataframe is of 42,140 rows and 8 columns\n",
        "complete_df.shape"
      ]
    },
    {
      "cell_type": "markdown",
      "id": "d29e90bd",
      "metadata": {
        "id": "d29e90bd"
      },
      "source": [
        "# 2. Data pre-processing"
      ]
    },
    {
      "cell_type": "markdown",
      "id": "ddf71c07",
      "metadata": {
        "id": "ddf71c07"
      },
      "source": [
        "### 2.1 Dataset basic formatting"
      ]
    },
    {
      "cell_type": "code",
      "execution_count": null,
      "id": "08746c09",
      "metadata": {
        "id": "08746c09"
      },
      "outputs": [],
      "source": [
        "# Here we convert the date column to datetime, and also create a create an additional column with yyyy-mm-dd format.\n",
        "complete_df['datetime'] = pd.to_datetime(complete_df['date'],cache=False)\n",
        "complete_df['date'] = complete_df['datetime'].dt.normalize().dt.strftime('%Y-%m-%d')\n",
        "complete_df.size\n",
        "# We also add a 'week' column to analyze the results per week\n",
        "complete_df['week'] = pd.PeriodIndex(pd.to_datetime(complete_df.date), freq='T').week"
      ]
    },
    {
      "cell_type": "code",
      "execution_count": null,
      "id": "551e975f",
      "metadata": {
        "id": "551e975f",
        "outputId": "3f843553-011a-4ce2-d3af-bc82f976eeeb"
      },
      "outputs": [
        {
          "data": {
            "text/html": [
              "<div>\n",
              "<style scoped>\n",
              "    .dataframe tbody tr th:only-of-type {\n",
              "        vertical-align: middle;\n",
              "    }\n",
              "\n",
              "    .dataframe tbody tr th {\n",
              "        vertical-align: top;\n",
              "    }\n",
              "\n",
              "    .dataframe thead th {\n",
              "        text-align: right;\n",
              "    }\n",
              "</style>\n",
              "<table border=\"1\" class=\"dataframe\">\n",
              "  <thead>\n",
              "    <tr style=\"text-align: right;\">\n",
              "      <th></th>\n",
              "      <th>Unnamed: 0.1</th>\n",
              "      <th>Unnamed: 0</th>\n",
              "      <th>id</th>\n",
              "      <th>url</th>\n",
              "      <th>date</th>\n",
              "      <th>content</th>\n",
              "      <th>keyword</th>\n",
              "      <th>datetime</th>\n",
              "      <th>week</th>\n",
              "    </tr>\n",
              "  </thead>\n",
              "  <tbody>\n",
              "    <tr>\n",
              "      <th>745</th>\n",
              "      <td>745</td>\n",
              "      <td>745</td>\n",
              "      <td>1528525813624209409</td>\n",
              "      <td>https://twitter.com/LTSmash420/status/15285258...</td>\n",
              "      <td>2022-05-22</td>\n",
              "      <td>⚠️ Hollande - au moins 7 jeunes enfants sont m...</td>\n",
              "      <td>monkeypox</td>\n",
              "      <td>2022-05-22 23:58:47+00:00</td>\n",
              "      <td>20</td>\n",
              "    </tr>\n",
              "    <tr>\n",
              "      <th>746</th>\n",
              "      <td>746</td>\n",
              "      <td>746</td>\n",
              "      <td>1528525803939581952</td>\n",
              "      <td>https://twitter.com/BethM0406/status/152852580...</td>\n",
              "      <td>2022-05-22</td>\n",
              "      <td>I'm going to be pissed if I get monkeypox. Cov...</td>\n",
              "      <td>monkeypox</td>\n",
              "      <td>2022-05-22 23:58:44+00:00</td>\n",
              "      <td>20</td>\n",
              "    </tr>\n",
              "    <tr>\n",
              "      <th>747</th>\n",
              "      <td>747</td>\n",
              "      <td>747</td>\n",
              "      <td>1528525797199314949</td>\n",
              "      <td>https://twitter.com/og_tigress/status/15285257...</td>\n",
              "      <td>2022-05-22</td>\n",
              "      <td>@Shauna92118487 @StokPrescott @ChaseMacTrades ...</td>\n",
              "      <td>monkeypox</td>\n",
              "      <td>2022-05-22 23:58:43+00:00</td>\n",
              "      <td>20</td>\n",
              "    </tr>\n",
              "    <tr>\n",
              "      <th>748</th>\n",
              "      <td>748</td>\n",
              "      <td>748</td>\n",
              "      <td>1528525793609011202</td>\n",
              "      <td>https://twitter.com/Applesdad12/status/1528525...</td>\n",
              "      <td>2022-05-22</td>\n",
              "      <td>@JulieD213 Guess we have to wait for the tally...</td>\n",
              "      <td>monkeypox</td>\n",
              "      <td>2022-05-22 23:58:42+00:00</td>\n",
              "      <td>20</td>\n",
              "    </tr>\n",
              "    <tr>\n",
              "      <th>749</th>\n",
              "      <td>749</td>\n",
              "      <td>749</td>\n",
              "      <td>1528525789460893697</td>\n",
              "      <td>https://twitter.com/FollowChadwick/status/1528...</td>\n",
              "      <td>2022-05-22</td>\n",
              "      <td>Monkeypox is hilarious. Also sad. Hilarious th...</td>\n",
              "      <td>monkeypox</td>\n",
              "      <td>2022-05-22 23:58:41+00:00</td>\n",
              "      <td>20</td>\n",
              "    </tr>\n",
              "  </tbody>\n",
              "</table>\n",
              "</div>"
            ],
            "text/plain": [
              "     Unnamed: 0.1  Unnamed: 0                   id  \\\n",
              "745           745         745  1528525813624209409   \n",
              "746           746         746  1528525803939581952   \n",
              "747           747         747  1528525797199314949   \n",
              "748           748         748  1528525793609011202   \n",
              "749           749         749  1528525789460893697   \n",
              "\n",
              "                                                   url        date  \\\n",
              "745  https://twitter.com/LTSmash420/status/15285258...  2022-05-22   \n",
              "746  https://twitter.com/BethM0406/status/152852580...  2022-05-22   \n",
              "747  https://twitter.com/og_tigress/status/15285257...  2022-05-22   \n",
              "748  https://twitter.com/Applesdad12/status/1528525...  2022-05-22   \n",
              "749  https://twitter.com/FollowChadwick/status/1528...  2022-05-22   \n",
              "\n",
              "                                               content    keyword  \\\n",
              "745  ⚠️ Hollande - au moins 7 jeunes enfants sont m...  monkeypox   \n",
              "746  I'm going to be pissed if I get monkeypox. Cov...  monkeypox   \n",
              "747  @Shauna92118487 @StokPrescott @ChaseMacTrades ...  monkeypox   \n",
              "748  @JulieD213 Guess we have to wait for the tally...  monkeypox   \n",
              "749  Monkeypox is hilarious. Also sad. Hilarious th...  monkeypox   \n",
              "\n",
              "                     datetime  week  \n",
              "745 2022-05-22 23:58:47+00:00    20  \n",
              "746 2022-05-22 23:58:44+00:00    20  \n",
              "747 2022-05-22 23:58:43+00:00    20  \n",
              "748 2022-05-22 23:58:42+00:00    20  \n",
              "749 2022-05-22 23:58:41+00:00    20  "
            ]
          },
          "execution_count": 114,
          "metadata": {},
          "output_type": "execute_result"
        }
      ],
      "source": [
        "# We have now 2 additional columns\n",
        "complete_df.tail()"
      ]
    },
    {
      "cell_type": "markdown",
      "id": "ea4bdfcd",
      "metadata": {
        "id": "ea4bdfcd"
      },
      "source": [
        "# Clean the text"
      ]
    },
    {
      "cell_type": "code",
      "execution_count": null,
      "id": "3d98bf95",
      "metadata": {
        "id": "3d98bf95"
      },
      "outputs": [],
      "source": [
        "porter = PorterStemmer()\n",
        "words = set(nltk.corpus.words.words())\n",
        "cachedStopWords = stopwords.words(\"english\") + ['‘', '’', '“', '”']\n",
        "\n",
        "class Cleaner:\n",
        "    def __init__(self, df, features):\n",
        "        self.result = df\n",
        "        self.features = features\n",
        "    \n",
        "    def get_result(self):\n",
        "        return self.result\n",
        "    \n",
        "    def drop_duplicates(self):\n",
        "        df = self.result\n",
        "        df.set_index('id', inplace=True)\n",
        "        df = df[~df.index.duplicated(keep='first')]\n",
        "        df['index'] = np.arange(len(df))\n",
        "        df.set_index('index', inplace=True)\n",
        "        self.result = df[self.features]\n",
        "\n",
        "    def clean_data(self, text):\n",
        "        #Remove numbers\n",
        "        text = re.sub(r'[0-9]+', '', text)\n",
        "        #Remove all words with a lenght less than 3\n",
        "        text = re.sub(r'\\b\\w{1,2}\\b', '', text)\n",
        "        #Remove punctuation\n",
        "        text = \"\".join([word.lower() for word in text if word not in string.punctuation])\n",
        "        #Tokenize\n",
        "        tokens = word_tokenize(text)\n",
        "        # Lemmatize\n",
        "        lemmatizer = WordNetLemmatizer()\n",
        "        text = ([lemmatizer.lemmatize(word) for word in tokens if word not in cachedStopWords and word in words])\n",
        "        #Remove stop-words\n",
        "        text = \" \".join([word for word in text if word not in cachedStopWords])\n",
        "        return text\n",
        "   \n",
        "    def ex_hashtags(self, text):\n",
        "        return list(part[1:] for part in text.split() if part.startswith('#'))\n",
        "    \n",
        "    def extract_hashtags(self):\n",
        "        self.result['hashtags']=self.result['content'].apply(lambda x: self.ex_hashtags(x))\n",
        "    \n",
        "    def ex_usernames(self, text):\n",
        "        return list(part[1:] for part in text.split() if part.startswith('@'))\n",
        "    \n",
        "    def extract_usernames(self):\n",
        "        self.result['usernames']=self.result['content'].apply(lambda x: self.ex_usernames(x))\n",
        "                    \n",
        "    def extract_content(self):\n",
        "        self.result['content_clean'] = self.result['content'].apply(lambda x: self.clean_data(x))\n",
        "        self.result['content_clean_count'] = self.result['content_clean'].map(len)\n",
        "        self.result = self.result[self.result['content_clean_count'] > 1]\n",
        "        \n",
        "    def fit_model(self):\n",
        "        self.drop_duplicates()\n",
        "        self.extract_content()\n",
        "        self.extract_hashtags()\n",
        "        self.extract_usernames()"
      ]
    },
    {
      "cell_type": "code",
      "execution_count": null,
      "id": "dec08ae4",
      "metadata": {
        "id": "dec08ae4"
      },
      "outputs": [],
      "source": [
        "# Here we create the cleaner object and execute the clean functions\n",
        "cleaner = Cleaner(complete_df, ['date','week','content','keyword'])\n",
        "# This function performs all the cleaning functions in our Cleaner object\n",
        "cleaner.fit_model()"
      ]
    },
    {
      "cell_type": "code",
      "execution_count": null,
      "id": "369b522a",
      "metadata": {
        "id": "369b522a",
        "outputId": "b7903f1e-ad45-41f1-be49-5d370de4cd4a"
      },
      "outputs": [
        {
          "name": "stdout",
          "output_type": "stream",
          "text": [
            "(692, 9)\n"
          ]
        },
        {
          "data": {
            "text/html": [
              "<div>\n",
              "<style scoped>\n",
              "    .dataframe tbody tr th:only-of-type {\n",
              "        vertical-align: middle;\n",
              "    }\n",
              "\n",
              "    .dataframe tbody tr th {\n",
              "        vertical-align: top;\n",
              "    }\n",
              "\n",
              "    .dataframe thead th {\n",
              "        text-align: right;\n",
              "    }\n",
              "</style>\n",
              "<table border=\"1\" class=\"dataframe\">\n",
              "  <thead>\n",
              "    <tr style=\"text-align: right;\">\n",
              "      <th></th>\n",
              "      <th>index</th>\n",
              "      <th>date</th>\n",
              "      <th>week</th>\n",
              "      <th>content</th>\n",
              "      <th>keyword</th>\n",
              "      <th>content_clean</th>\n",
              "      <th>content_clean_count</th>\n",
              "      <th>hashtags</th>\n",
              "      <th>usernames</th>\n",
              "    </tr>\n",
              "  </thead>\n",
              "  <tbody>\n",
              "    <tr>\n",
              "      <th>687</th>\n",
              "      <td>745</td>\n",
              "      <td>2022-05-22</td>\n",
              "      <td>20</td>\n",
              "      <td>⚠️ Hollande - au moins 7 jeunes enfants sont m...</td>\n",
              "      <td>monkeypox</td>\n",
              "      <td>variole singe dernier</td>\n",
              "      <td>21</td>\n",
              "      <td>[variole, monkeypox, polqc]</td>\n",
              "      <td>[]</td>\n",
              "    </tr>\n",
              "    <tr>\n",
              "      <th>688</th>\n",
              "      <td>746</td>\n",
              "      <td>2022-05-22</td>\n",
              "      <td>20</td>\n",
              "      <td>I'm going to be pissed if I get monkeypox. Cov...</td>\n",
              "      <td>monkeypox</td>\n",
              "      <td>going get covid bad enough</td>\n",
              "      <td>26</td>\n",
              "      <td>[]</td>\n",
              "      <td>[]</td>\n",
              "    </tr>\n",
              "    <tr>\n",
              "      <th>689</th>\n",
              "      <td>747</td>\n",
              "      <td>2022-05-22</td>\n",
              "      <td>20</td>\n",
              "      <td>@Shauna92118487 @StokPrescott @ChaseMacTrades ...</td>\n",
              "      <td>monkeypox</td>\n",
              "      <td>run monkey pox</td>\n",
              "      <td>14</td>\n",
              "      <td>[]</td>\n",
              "      <td>[Shauna92118487, StokPrescott, ChaseMacTrades]</td>\n",
              "    </tr>\n",
              "    <tr>\n",
              "      <th>690</th>\n",
              "      <td>748</td>\n",
              "      <td>2022-05-22</td>\n",
              "      <td>20</td>\n",
              "      <td>@JulieD213 Guess we have to wait for the tally...</td>\n",
              "      <td>monkeypox</td>\n",
              "      <td>guess wait tally</td>\n",
              "      <td>16</td>\n",
              "      <td>[]</td>\n",
              "      <td>[JulieD213]</td>\n",
              "    </tr>\n",
              "    <tr>\n",
              "      <th>691</th>\n",
              "      <td>749</td>\n",
              "      <td>2022-05-22</td>\n",
              "      <td>20</td>\n",
              "      <td>Monkeypox is hilarious. Also sad. Hilarious th...</td>\n",
              "      <td>monkeypox</td>\n",
              "      <td>hilarious also sad hilarious let blatantly con...</td>\n",
              "      <td>141</td>\n",
              "      <td>[]</td>\n",
              "      <td>[]</td>\n",
              "    </tr>\n",
              "  </tbody>\n",
              "</table>\n",
              "</div>"
            ],
            "text/plain": [
              "     index        date  week  \\\n",
              "687    745  2022-05-22    20   \n",
              "688    746  2022-05-22    20   \n",
              "689    747  2022-05-22    20   \n",
              "690    748  2022-05-22    20   \n",
              "691    749  2022-05-22    20   \n",
              "\n",
              "                                               content    keyword  \\\n",
              "687  ⚠️ Hollande - au moins 7 jeunes enfants sont m...  monkeypox   \n",
              "688  I'm going to be pissed if I get monkeypox. Cov...  monkeypox   \n",
              "689  @Shauna92118487 @StokPrescott @ChaseMacTrades ...  monkeypox   \n",
              "690  @JulieD213 Guess we have to wait for the tally...  monkeypox   \n",
              "691  Monkeypox is hilarious. Also sad. Hilarious th...  monkeypox   \n",
              "\n",
              "                                         content_clean  content_clean_count  \\\n",
              "687                              variole singe dernier                   21   \n",
              "688                         going get covid bad enough                   26   \n",
              "689                                     run monkey pox                   14   \n",
              "690                                   guess wait tally                   16   \n",
              "691  hilarious also sad hilarious let blatantly con...                  141   \n",
              "\n",
              "                        hashtags  \\\n",
              "687  [variole, monkeypox, polqc]   \n",
              "688                           []   \n",
              "689                           []   \n",
              "690                           []   \n",
              "691                           []   \n",
              "\n",
              "                                          usernames  \n",
              "687                                              []  \n",
              "688                                              []  \n",
              "689  [Shauna92118487, StokPrescott, ChaseMacTrades]  \n",
              "690                                     [JulieD213]  \n",
              "691                                              []  "
            ]
          },
          "execution_count": 117,
          "metadata": {},
          "output_type": "execute_result"
        }
      ],
      "source": [
        "# Here we create a dataframe with the results of the Cleaner class\n",
        "clean_df = cleaner.get_result()\n",
        "# We reset the index\n",
        "clean_df = clean_df.reset_index()\n",
        "# Here we show the cleaned results. We have 40,475 rows after the process\n",
        "print(clean_df.shape)\n",
        "clean_df.tail()"
      ]
    },
    {
      "cell_type": "markdown",
      "id": "5aadd309-26a1-4bf9-be34-68d58cbf7ffb",
      "metadata": {
        "id": "5aadd309-26a1-4bf9-be34-68d58cbf7ffb"
      },
      "source": [
        "# 3. TF-IDF vectorize the text"
      ]
    },
    {
      "cell_type": "code",
      "execution_count": null,
      "id": "7e43ec42",
      "metadata": {
        "id": "7e43ec42"
      },
      "outputs": [],
      "source": [
        "# the vectorizer object will be used to transform text to vector form\n",
        "vectorizer = CountVectorizer(max_df=0.9, min_df=25, token_pattern='\\w+|\\$[\\d\\.]+|\\S+')\n",
        "# apply transformation\n",
        "tf = vectorizer.fit_transform(clean_df['content_clean']).toarray()\n",
        "# feature_set tells us what word each column in the matric represents\n",
        "feature_set = vectorizer.get_feature_names_out()"
      ]
    },
    {
      "cell_type": "code",
      "execution_count": null,
      "id": "164a87bd",
      "metadata": {
        "id": "164a87bd",
        "outputId": "a5099c0e-ea8a-4e34-d71a-7f4ad3a80dea"
      },
      "outputs": [
        {
          "data": {
            "text/plain": [
              "(692, 20)"
            ]
          },
          "execution_count": 119,
          "metadata": {},
          "output_type": "execute_result"
        }
      ],
      "source": [
        "tf.shape"
      ]
    },
    {
      "cell_type": "code",
      "execution_count": null,
      "id": "363c2c93",
      "metadata": {
        "id": "363c2c93",
        "outputId": "bea9c8d2-0f75-4eb9-fe8e-3ab34813d444"
      },
      "outputs": [
        {
          "data": {
            "text/plain": [
              "array([[0, 0, 0, ..., 0, 0, 0],\n",
              "       [1, 0, 0, ..., 0, 0, 0],\n",
              "       [1, 1, 0, ..., 0, 0, 1],\n",
              "       ...,\n",
              "       [0, 0, 0, ..., 0, 0, 0],\n",
              "       [0, 0, 0, ..., 0, 0, 0],\n",
              "       [0, 0, 1, ..., 0, 0, 0]], dtype=int64)"
            ]
          },
          "execution_count": 120,
          "metadata": {},
          "output_type": "execute_result"
        }
      ],
      "source": [
        "tf"
      ]
    },
    {
      "cell_type": "markdown",
      "id": "4c30f760",
      "metadata": {
        "id": "4c30f760"
      },
      "source": [
        "# PCA"
      ]
    },
    {
      "cell_type": "code",
      "execution_count": null,
      "id": "f7e0b914",
      "metadata": {
        "id": "f7e0b914"
      },
      "outputs": [],
      "source": [
        "from sklearn.decomposition import PCA\n",
        "pca = PCA(n_components=2)\n",
        "principalComponents = pca.fit_transform(tf)"
      ]
    },
    {
      "cell_type": "code",
      "execution_count": null,
      "id": "f39c8ec6",
      "metadata": {
        "id": "f39c8ec6",
        "outputId": "951ec36a-fe81-466b-c8b0-f7b211ebd121"
      },
      "outputs": [
        {
          "data": {
            "text/html": [
              "<div>\n",
              "<style scoped>\n",
              "    .dataframe tbody tr th:only-of-type {\n",
              "        vertical-align: middle;\n",
              "    }\n",
              "\n",
              "    .dataframe tbody tr th {\n",
              "        vertical-align: top;\n",
              "    }\n",
              "\n",
              "    .dataframe thead th {\n",
              "        text-align: right;\n",
              "    }\n",
              "</style>\n",
              "<table border=\"1\" class=\"dataframe\">\n",
              "  <thead>\n",
              "    <tr style=\"text-align: right;\">\n",
              "      <th></th>\n",
              "      <th>pc1</th>\n",
              "      <th>pc2</th>\n",
              "    </tr>\n",
              "  </thead>\n",
              "  <tbody>\n",
              "    <tr>\n",
              "      <th>0</th>\n",
              "      <td>1.114798</td>\n",
              "      <td>0.015365</td>\n",
              "    </tr>\n",
              "    <tr>\n",
              "      <th>1</th>\n",
              "      <td>-0.495677</td>\n",
              "      <td>0.841546</td>\n",
              "    </tr>\n",
              "    <tr>\n",
              "      <th>2</th>\n",
              "      <td>-0.559968</td>\n",
              "      <td>1.064928</td>\n",
              "    </tr>\n",
              "    <tr>\n",
              "      <th>3</th>\n",
              "      <td>-0.267394</td>\n",
              "      <td>-0.251600</td>\n",
              "    </tr>\n",
              "    <tr>\n",
              "      <th>4</th>\n",
              "      <td>-0.505665</td>\n",
              "      <td>0.954142</td>\n",
              "    </tr>\n",
              "    <tr>\n",
              "      <th>...</th>\n",
              "      <td>...</td>\n",
              "      <td>...</td>\n",
              "    </tr>\n",
              "    <tr>\n",
              "      <th>687</th>\n",
              "      <td>-0.267394</td>\n",
              "      <td>-0.251600</td>\n",
              "    </tr>\n",
              "    <tr>\n",
              "      <th>688</th>\n",
              "      <td>-0.255223</td>\n",
              "      <td>-0.310649</td>\n",
              "    </tr>\n",
              "    <tr>\n",
              "      <th>689</th>\n",
              "      <td>1.114798</td>\n",
              "      <td>0.015365</td>\n",
              "    </tr>\n",
              "    <tr>\n",
              "      <th>690</th>\n",
              "      <td>-0.267394</td>\n",
              "      <td>-0.251600</td>\n",
              "    </tr>\n",
              "    <tr>\n",
              "      <th>691</th>\n",
              "      <td>-0.268194</td>\n",
              "      <td>-0.282368</td>\n",
              "    </tr>\n",
              "  </tbody>\n",
              "</table>\n",
              "<p>692 rows × 2 columns</p>\n",
              "</div>"
            ],
            "text/plain": [
              "          pc1       pc2\n",
              "0    1.114798  0.015365\n",
              "1   -0.495677  0.841546\n",
              "2   -0.559968  1.064928\n",
              "3   -0.267394 -0.251600\n",
              "4   -0.505665  0.954142\n",
              "..        ...       ...\n",
              "687 -0.267394 -0.251600\n",
              "688 -0.255223 -0.310649\n",
              "689  1.114798  0.015365\n",
              "690 -0.267394 -0.251600\n",
              "691 -0.268194 -0.282368\n",
              "\n",
              "[692 rows x 2 columns]"
            ]
          },
          "execution_count": 122,
          "metadata": {},
          "output_type": "execute_result"
        }
      ],
      "source": [
        "principalDf = pd.DataFrame(data = principalComponents\n",
        "             , columns = ['pc1', 'pc2'])\n",
        "principalDf"
      ]
    },
    {
      "cell_type": "code",
      "execution_count": null,
      "id": "c265f04c",
      "metadata": {
        "id": "c265f04c",
        "outputId": "1f72cac8-b41f-433c-ce60-09ef748b2848"
      },
      "outputs": [
        {
          "data": {
            "text/plain": [
              "array([0.26573912, 0.09192927])"
            ]
          },
          "execution_count": 123,
          "metadata": {},
          "output_type": "execute_result"
        }
      ],
      "source": [
        "exp_var_pca = pca.explained_variance_ratio_\n",
        "exp_var_pca"
      ]
    },
    {
      "cell_type": "code",
      "execution_count": null,
      "id": "357ba277",
      "metadata": {
        "id": "357ba277"
      },
      "outputs": [],
      "source": [
        "import matplotlib.pyplot as plt\n",
        "plt.rcParams[\"figure.figsize\"] = (10,3)"
      ]
    },
    {
      "cell_type": "markdown",
      "id": "ad1d9e45",
      "metadata": {
        "id": "ad1d9e45"
      },
      "source": [
        "# Plot only 2 dimensions of the PCA"
      ]
    },
    {
      "cell_type": "code",
      "execution_count": null,
      "id": "e4720756",
      "metadata": {
        "scrolled": true,
        "id": "e4720756",
        "outputId": "57bc6b43-20f7-47f7-c3db-491d7f1a1998"
      },
      "outputs": [
        {
          "data": {
            "image/png": "[encoded data removed]",
            "text/plain": [
              "<Figure size 720x216 with 1 Axes>"
            ]
          },
          "metadata": {},
          "output_type": "display_data"
        }
      ],
      "source": [
        "principalDf.plot.scatter(x = 'pc1', y = 'pc2');"
      ]
    },
    {
      "cell_type": "markdown",
      "id": "fe0560d8",
      "metadata": {
        "id": "fe0560d8"
      },
      "source": [
        "# K-means"
      ]
    },
    {
      "cell_type": "code",
      "execution_count": null,
      "id": "70b8cd53",
      "metadata": {
        "id": "70b8cd53"
      },
      "outputs": [],
      "source": [
        "from sklearn.cluster import KMeans"
      ]
    },
    {
      "cell_type": "code",
      "execution_count": null,
      "id": "ff0514bd",
      "metadata": {
        "id": "ff0514bd"
      },
      "outputs": [],
      "source": [
        "X = principalDf.values\n",
        "\n",
        "kmeans = KMeans(n_clusters=5, random_state=0).fit(X)\n",
        "#kmeans.labels_"
      ]
    },
    {
      "cell_type": "code",
      "execution_count": null,
      "id": "2ae4b8ed",
      "metadata": {
        "id": "2ae4b8ed",
        "outputId": "1fe1ec70-995c-46c0-866a-6bc5cf3cbfdf"
      },
      "outputs": [
        {
          "data": {
            "text/plain": [
              "(692,)"
            ]
          },
          "execution_count": 128,
          "metadata": {},
          "output_type": "execute_result"
        }
      ],
      "source": [
        "kmeans.labels_.shape"
      ]
    },
    {
      "cell_type": "code",
      "execution_count": null,
      "id": "f9c0d4ed",
      "metadata": {
        "id": "f9c0d4ed"
      },
      "outputs": [],
      "source": [
        "principalDf2 = principalDf\n",
        "principalDf2['cluster'] = kmeans.labels_"
      ]
    },
    {
      "cell_type": "code",
      "execution_count": null,
      "id": "cadb7bbf",
      "metadata": {
        "id": "cadb7bbf",
        "outputId": "23c4ec03-fd16-4926-f274-e1d43483eab2"
      },
      "outputs": [
        {
          "data": {
            "text/plain": [
              "<AxesSubplot:xlabel='pc1', ylabel='pc2'>"
            ]
          },
          "execution_count": 130,
          "metadata": {},
          "output_type": "execute_result"
        },
        {
          "data": {
            "image/png": "[encoded data removed]",
            "text/plain": [
              "<Figure size 720x216 with 1 Axes>"
            ]
          },
          "metadata": {},
          "output_type": "display_data"
        }
      ],
      "source": [
        "sns.set_style(\"whitegrid\")\n",
        "sns.scatterplot(data=principalDf2, x=\"pc1\", y=\"pc2\", hue=\"cluster\",palette='tab10')"
      ]
    },
    {
      "cell_type": "code",
      "execution_count": null,
      "id": "57341fec",
      "metadata": {
        "id": "57341fec"
      },
      "outputs": [],
      "source": [
        "clean_df2 = clean_df\n",
        "clean_df2['cluster'] = kmeans.labels_"
      ]
    },
    {
      "cell_type": "markdown",
      "id": "49454c81",
      "metadata": {
        "id": "49454c81"
      },
      "source": [
        ""
      ]
    },
    {
      "cell_type": "code",
      "execution_count": null,
      "id": "85d3b739",
      "metadata": {
        "scrolled": true,
        "id": "85d3b739"
      },
      "outputs": [],
      "source": [
        ""
      ]
    },
    {
      "cell_type": "code",
      "execution_count": null,
      "id": "d8755555",
      "metadata": {
        "id": "d8755555"
      },
      "outputs": [],
      "source": [
        ""
      ]
    }
  ],
  "metadata": {
    "kernelspec": {
      "display_name": "Python 3 (ipykernel)",
      "language": "python",
      "name": "python3"
    },
    "language_info": {
      "codemirror_mode": {
        "name": "ipython",
        "version": 3
      },
      "file_extension": ".py",
      "mimetype": "text/x-python",
      "name": "python",
      "nbconvert_exporter": "python",
      "pygments_lexer": "ipython3",
      "version": "3.9.7"
    },
    "colab": {
      "name": "Lab-3_Submission(Harjot).ipynb",
      "provenance": []
    }
  },
  "nbformat": 4,
  "nbformat_minor": 5
}